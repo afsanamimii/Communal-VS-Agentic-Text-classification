{
 "cells": [
  {
   "cell_type": "code",
   "execution_count": 29,
   "metadata": {},
   "outputs": [],
   "source": [
    "import numpy as np\n",
    "import pandas as pd\n",
    "import pickle"
   ]
  },
  {
   "cell_type": "code",
   "execution_count": 30,
   "metadata": {},
   "outputs": [],
   "source": [
    "dataset=pd.read_csv(\"communal.csv\")"
   ]
  },
  {
   "cell_type": "code",
   "execution_count": 31,
   "metadata": {},
   "outputs": [
    {
     "data": {
      "text/html": [
       "<div>\n",
       "<style scoped>\n",
       "    .dataframe tbody tr th:only-of-type {\n",
       "        vertical-align: middle;\n",
       "    }\n",
       "\n",
       "    .dataframe tbody tr th {\n",
       "        vertical-align: top;\n",
       "    }\n",
       "\n",
       "    .dataframe thead th {\n",
       "        text-align: right;\n",
       "    }\n",
       "</style>\n",
       "<table border=\"1\" class=\"dataframe\">\n",
       "  <thead>\n",
       "    <tr style=\"text-align: right;\">\n",
       "      <th></th>\n",
       "      <th>Title</th>\n",
       "      <th>Category</th>\n",
       "    </tr>\n",
       "  </thead>\n",
       "  <tbody>\n",
       "    <tr>\n",
       "      <th>0</th>\n",
       "      <td>I'm able to do the work. I will accomplish wit...</td>\n",
       "      <td>1</td>\n",
       "    </tr>\n",
       "    <tr>\n",
       "      <th>1</th>\n",
       "      <td>Ambition can help you to grow.</td>\n",
       "      <td>1</td>\n",
       "    </tr>\n",
       "    <tr>\n",
       "      <th>2</th>\n",
       "      <td>I am grateful enough to him for helping me. Hi...</td>\n",
       "      <td>2</td>\n",
       "    </tr>\n",
       "    <tr>\n",
       "      <th>3</th>\n",
       "      <td>My intelligence ang leadership ability will be...</td>\n",
       "      <td>1</td>\n",
       "    </tr>\n",
       "    <tr>\n",
       "      <th>4</th>\n",
       "      <td>Our manager is really organized and powerful. ...</td>\n",
       "      <td>1</td>\n",
       "    </tr>\n",
       "    <tr>\n",
       "      <th>5</th>\n",
       "      <td>This boy has a logical skill to solve any comp...</td>\n",
       "      <td>1</td>\n",
       "    </tr>\n",
       "    <tr>\n",
       "      <th>6</th>\n",
       "      <td>Their decision can bring justice, They have a ...</td>\n",
       "      <td>2</td>\n",
       "    </tr>\n",
       "    <tr>\n",
       "      <th>7</th>\n",
       "      <td>She is a powerful and independent girl. She ha...</td>\n",
       "      <td>1</td>\n",
       "    </tr>\n",
       "    <tr>\n",
       "      <th>8</th>\n",
       "      <td>Our neighbor is very gentle and polite. They g...</td>\n",
       "      <td>2</td>\n",
       "    </tr>\n",
       "    <tr>\n",
       "      <th>9</th>\n",
       "      <td>I'm really close to her. I love her polite and...</td>\n",
       "      <td>2</td>\n",
       "    </tr>\n",
       "    <tr>\n",
       "      <th>10</th>\n",
       "      <td>She is learning how to teach. She is a good te...</td>\n",
       "      <td>2</td>\n",
       "    </tr>\n",
       "    <tr>\n",
       "      <th>11</th>\n",
       "      <td>We are discussing about the welfare of out tea...</td>\n",
       "      <td>2</td>\n",
       "    </tr>\n",
       "    <tr>\n",
       "      <th>12</th>\n",
       "      <td>Her roommate is very loveable and open minded....</td>\n",
       "      <td>2</td>\n",
       "    </tr>\n",
       "    <tr>\n",
       "      <th>13</th>\n",
       "      <td>She is establishing herself with a lot of effo...</td>\n",
       "      <td>1</td>\n",
       "    </tr>\n",
       "  </tbody>\n",
       "</table>\n",
       "</div>"
      ],
      "text/plain": [
       "                                                Title  Category\n",
       "0   I'm able to do the work. I will accomplish wit...         1\n",
       "1                      Ambition can help you to grow.         1\n",
       "2   I am grateful enough to him for helping me. Hi...         2\n",
       "3   My intelligence ang leadership ability will be...         1\n",
       "4   Our manager is really organized and powerful. ...         1\n",
       "5   This boy has a logical skill to solve any comp...         1\n",
       "6   Their decision can bring justice, They have a ...         2\n",
       "7   She is a powerful and independent girl. She ha...         1\n",
       "8   Our neighbor is very gentle and polite. They g...         2\n",
       "9   I'm really close to her. I love her polite and...         2\n",
       "10  She is learning how to teach. She is a good te...         2\n",
       "11  We are discussing about the welfare of out tea...         2\n",
       "12  Her roommate is very loveable and open minded....         2\n",
       "13  She is establishing herself with a lot of effo...         1"
      ]
     },
     "execution_count": 31,
     "metadata": {},
     "output_type": "execute_result"
    }
   ],
   "source": [
    "dataset"
   ]
  },
  {
   "cell_type": "code",
   "execution_count": 32,
   "metadata": {},
   "outputs": [
    {
     "name": "stderr",
     "output_type": "stream",
     "text": [
      "[nltk_data] Downloading package stopwords to\n",
      "[nltk_data]     C:\\Users\\Asus\\AppData\\Roaming\\nltk_data...\n",
      "[nltk_data]   Package stopwords is already up-to-date!\n"
     ]
    }
   ],
   "source": [
    "import re \n",
    "import nltk\n",
    "\n",
    "nltk.download('stopwords')\n",
    "from nltk.corpus import stopwords\n",
    "from nltk.stem.porter import PorterStemmer\n",
    "\n",
    "ps=PorterStemmer()\n",
    "all_stopword= stopwords.words('english')\n",
    "all_stopword.remove('not')"
   ]
  },
  {
   "cell_type": "code",
   "execution_count": 33,
   "metadata": {},
   "outputs": [
    {
     "name": "stderr",
     "output_type": "stream",
     "text": [
      "[nltk_data] Downloading package punkt to\n",
      "[nltk_data]     C:\\Users\\Asus\\AppData\\Roaming\\nltk_data...\n",
      "[nltk_data]   Package punkt is already up-to-date!\n"
     ]
    }
   ],
   "source": [
    "import nltk\n",
    "nltk.download('punkt')\n",
    "from nltk.tokenize import word_tokenize"
   ]
  },
  {
   "cell_type": "code",
   "execution_count": 34,
   "metadata": {},
   "outputs": [],
   "source": [
    "corpus=[]\n",
    "corpus1=[]\n",
    "\n",
    "for i in range(0, 14):\n",
    "    \n",
    "    if(dataset['Category'][i]==1):\n",
    "    \n",
    "        review = re.sub('[^a-zA-Z]', ' ', dataset['Title'][i])\n",
    "        review = review.lower()\n",
    "        review = review.split()\n",
    "        review = [ps.stem(word) for word in review if not word in set(all_stopword)]\n",
    "        review = ' '.join(review)\n",
    "        corpus.append(review)\n",
    "        \n",
    "    \n",
    "    \n",
    "    else:\n",
    "        review1= re.sub('[^a-zA-Z]', ' ', dataset['Title'][i])\n",
    "        review1 = review1.lower()\n",
    "        review1 = review1.split()\n",
    "        review1 = [ps.stem(word1) for word1 in review1 if not word1 in set(all_stopword)]\n",
    "        review1 = ' '.join(review1)\n",
    "        corpus1.append(review1)\n",
    "\n",
    "        \n",
    "        "
   ]
  },
  {
   "cell_type": "code",
   "execution_count": 35,
   "metadata": {},
   "outputs": [
    {
     "data": {
      "text/plain": [
       "['abl work accomplish without help confid',\n",
       " 'ambit help grow',\n",
       " 'intellig ang leadership abil abl overcom problem expert field outstand perform confid face oustand result',\n",
       " 'manag realli organ power profession behavior make us proud',\n",
       " 'boy logic skill solv complex problem outstand perform sucessful soon',\n",
       " 'power independ girl discov lot thing excel manag leadership',\n",
       " 'establish lot effort power women deep insight goal orient mental allow overcom barrier']"
      ]
     },
     "execution_count": 35,
     "metadata": {},
     "output_type": "execute_result"
    }
   ],
   "source": [
    "corpus    ####agentic"
   ]
  },
  {
   "cell_type": "code",
   "execution_count": 36,
   "metadata": {},
   "outputs": [
    {
     "data": {
      "text/plain": [
       "['grate enough help kind make loveabl way share belong realli warm',\n",
       " 'decis bring justic merci love attitud toward sens humor praiseworthi',\n",
       " 'neighbor gentl polit genuin help other love behavior keep everyon unit',\n",
       " 'realli close love polit help behavior discuss famili friend hospit natur',\n",
       " 'learn teach good team player team work togeth trust',\n",
       " 'discuss welfar team teach peopl talk sympathi squad share mutual resepect ritual',\n",
       " 'roommat loveabl open mind offer tea yesterday care other roomat lot lover behavior']"
      ]
     },
     "execution_count": 36,
     "metadata": {},
     "output_type": "execute_result"
    }
   ],
   "source": [
    "corpus1     ####Communal"
   ]
  },
  {
   "cell_type": "markdown",
   "metadata": {},
   "source": [
    "# Making dictionary for agentic sentences"
   ]
  },
  {
   "cell_type": "code",
   "execution_count": null,
   "metadata": {},
   "outputs": [],
   "source": [
    "\n",
    "\n",
    "joint_words = ' '.join(corpus)\n",
    "#print(joint_words)\n",
    "separated_words = word_tokenize(joint_words)\n",
    "print(separated_words)\n",
    "with open('dictionary_agentic.txt', 'wb') as file:\n",
    "    pickle.dump(separated_words, file)"
   ]
  },
  {
   "cell_type": "markdown",
   "metadata": {},
   "source": [
    "# Making dictionary for communal sentences"
   ]
  },
  {
   "cell_type": "code",
   "execution_count": 38,
   "metadata": {},
   "outputs": [
    {
     "name": "stdout",
     "output_type": "stream",
     "text": [
      "['grate', 'enough', 'help', 'kind', 'make', 'loveabl', 'way', 'share', 'belong', 'realli', 'warm', 'decis', 'bring', 'justic', 'merci', 'love', 'attitud', 'toward', 'sens', 'humor', 'praiseworthi', 'neighbor', 'gentl', 'polit', 'genuin', 'help', 'other', 'love', 'behavior', 'keep', 'everyon', 'unit', 'realli', 'close', 'love', 'polit', 'help', 'behavior', 'discuss', 'famili', 'friend', 'hospit', 'natur', 'learn', 'teach', 'good', 'team', 'player', 'team', 'work', 'togeth', 'trust', 'discuss', 'welfar', 'team', 'teach', 'peopl', 'talk', 'sympathi', 'squad', 'share', 'mutual', 'resepect', 'ritual', 'roommat', 'loveabl', 'open', 'mind', 'offer', 'tea', 'yesterday', 'care', 'other', 'roomat', 'lot', 'lover', 'behavior']\n"
     ]
    }
   ],
   "source": [
    "joint_words1 = ' '.join(corpus1)\n",
    "separated_words1 = word_tokenize(joint_words1)\n",
    "print(separated_words1)\n",
    "\n",
    "with open('dictionary_communal.txt', 'wb') as file:\n",
    "    pickle.dump(separated_words1, file)\n"
   ]
  },
  {
   "cell_type": "markdown",
   "metadata": {},
   "source": [
    "# Checking output"
   ]
  },
  {
   "cell_type": "code",
   "execution_count": 39,
   "metadata": {},
   "outputs": [],
   "source": [
    "with open ('dictionary_agentic.txt', 'rb') as file:\n",
    "    Outlist = pickle.load(file)"
   ]
  },
  {
   "cell_type": "code",
   "execution_count": 41,
   "metadata": {},
   "outputs": [
    {
     "data": {
      "text/plain": [
       "['abl',\n",
       " 'work',\n",
       " 'accomplish',\n",
       " 'without',\n",
       " 'help',\n",
       " 'confid',\n",
       " 'ambit',\n",
       " 'help',\n",
       " 'grow',\n",
       " 'intellig',\n",
       " 'ang',\n",
       " 'leadership',\n",
       " 'abil',\n",
       " 'abl',\n",
       " 'overcom',\n",
       " 'problem',\n",
       " 'expert',\n",
       " 'field',\n",
       " 'outstand',\n",
       " 'perform',\n",
       " 'confid',\n",
       " 'face',\n",
       " 'oustand',\n",
       " 'result',\n",
       " 'manag',\n",
       " 'realli',\n",
       " 'organ',\n",
       " 'power',\n",
       " 'profession',\n",
       " 'behavior',\n",
       " 'make',\n",
       " 'us',\n",
       " 'proud',\n",
       " 'boy',\n",
       " 'logic',\n",
       " 'skill',\n",
       " 'solv',\n",
       " 'complex',\n",
       " 'problem',\n",
       " 'outstand',\n",
       " 'perform',\n",
       " 'sucessful',\n",
       " 'soon',\n",
       " 'power',\n",
       " 'independ',\n",
       " 'girl',\n",
       " 'discov',\n",
       " 'lot',\n",
       " 'thing',\n",
       " 'excel',\n",
       " 'manag',\n",
       " 'leadership',\n",
       " 'establish',\n",
       " 'lot',\n",
       " 'effort',\n",
       " 'power',\n",
       " 'women',\n",
       " 'deep',\n",
       " 'insight',\n",
       " 'goal',\n",
       " 'orient',\n",
       " 'mental',\n",
       " 'allow',\n",
       " 'overcom',\n",
       " 'barrier']"
      ]
     },
     "execution_count": 41,
     "metadata": {},
     "output_type": "execute_result"
    }
   ],
   "source": [
    "Outlist"
   ]
  },
  {
   "cell_type": "code",
   "execution_count": null,
   "metadata": {},
   "outputs": [],
   "source": []
  },
  {
   "cell_type": "code",
   "execution_count": null,
   "metadata": {},
   "outputs": [],
   "source": []
  },
  {
   "cell_type": "code",
   "execution_count": 43,
   "metadata": {},
   "outputs": [
    {
     "name": "stdout",
     "output_type": "stream",
     "text": [
      "['grate', 'enough', 'help', 'kind', 'make', 'loveabl', 'way', 'share', 'belong', 'realli', 'warm', 'decis', 'bring', 'justic', 'merci', 'love', 'attitud', 'toward', 'sens', 'humor', 'praiseworthi', 'neighbor', 'gentl', 'polit', 'genuin', 'help', 'other', 'love', 'behavior', 'keep', 'everyon', 'unit', 'realli', 'close', 'love', 'polit', 'help', 'behavior', 'discuss', 'famili', 'friend', 'hospit', 'natur', 'learn', 'teach', 'good', 'team', 'player', 'team', 'work', 'togeth', 'trust', 'discuss', 'welfar', 'team', 'teach', 'peopl', 'talk', 'sympathi', 'squad', 'share', 'mutual', 'resepect', 'ritual', 'roommat', 'loveabl', 'open', 'mind', 'offer', 'tea', 'yesterday', 'care', 'other', 'roomat', 'lot', 'lover', 'behavior']\n"
     ]
    }
   ],
   "source": [
    "with open ('dictionary_communal.txt', 'rb') as file:\n",
    "    Outlist1 = pickle.load(file)\n",
    "print(Outlist1)"
   ]
  },
  {
   "cell_type": "code",
   "execution_count": null,
   "metadata": {},
   "outputs": [],
   "source": []
  }
 ],
 "metadata": {
  "kernelspec": {
   "display_name": "Python 3",
   "language": "python",
   "name": "python3"
  },
  "language_info": {
   "codemirror_mode": {
    "name": "ipython",
    "version": 3
   },
   "file_extension": ".py",
   "mimetype": "text/x-python",
   "name": "python",
   "nbconvert_exporter": "python",
   "pygments_lexer": "ipython3",
   "version": "3.8.3"
  }
 },
 "nbformat": 4,
 "nbformat_minor": 4
}
