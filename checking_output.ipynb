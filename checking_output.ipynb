{
 "cells": [
  {
   "cell_type": "code",
   "execution_count": 1,
   "metadata": {},
   "outputs": [],
   "source": [
    "import numpy as np\n",
    "import pandas as pd"
   ]
  },
  {
   "cell_type": "code",
   "execution_count": 35,
   "metadata": {},
   "outputs": [],
   "source": [
    "data=\"she is polite and gentle\""
   ]
  },
  {
   "cell_type": "code",
   "execution_count": 36,
   "metadata": {},
   "outputs": [
    {
     "name": "stderr",
     "output_type": "stream",
     "text": [
      "[nltk_data] Downloading package stopwords to\n",
      "[nltk_data]     C:\\Users\\Asus\\AppData\\Roaming\\nltk_data...\n",
      "[nltk_data]   Package stopwords is already up-to-date!\n"
     ]
    }
   ],
   "source": [
    "import re\n",
    "import nltk\n",
    "\n",
    "nltk.download('stopwords')\n",
    "\n",
    "from nltk.corpus import stopwords\n",
    "from nltk.stem.porter import PorterStemmer\n",
    "ps = PorterStemmer()\n",
    "\n",
    "all_stopwords = stopwords.words('english')\n",
    "all_stopwords.remove('not')"
   ]
  },
  {
   "cell_type": "code",
   "execution_count": 37,
   "metadata": {},
   "outputs": [],
   "source": [
    "corpus=[]\n",
    "\n",
    "\n",
    "review = re.sub('[^a-zA-Z]', ' ', data)\n",
    "review = review.lower()\n",
    "review = review.split()\n",
    "review = [ps.stem(word) for word in review if not word in set(all_stopwords)]\n",
    "review = ' '.join(review)\n",
    "corpus.append(review)"
   ]
  },
  {
   "cell_type": "code",
   "execution_count": 38,
   "metadata": {},
   "outputs": [
    {
     "data": {
      "text/plain": [
       "['polit gentl']"
      ]
     },
     "execution_count": 38,
     "metadata": {},
     "output_type": "execute_result"
    }
   ],
   "source": [
    "corpus"
   ]
  },
  {
   "cell_type": "code",
   "execution_count": 39,
   "metadata": {},
   "outputs": [],
   "source": [
    "from sklearn.feature_extraction.text import CountVectorizer\n",
    "import pickle\n",
    "cvFile=\"D:\\\\DATA SCIENCE PROJECTS\\\\Agentic vs communal\\\\bow_train.pkl\"\n",
    "cv = pickle.load(open(cvFile, \"rb\"))"
   ]
  },
  {
   "cell_type": "code",
   "execution_count": 40,
   "metadata": {},
   "outputs": [],
   "source": [
    "X_fresh=cv.transform(corpus).toarray()"
   ]
  },
  {
   "cell_type": "code",
   "execution_count": 41,
   "metadata": {},
   "outputs": [
    {
     "name": "stdout",
     "output_type": "stream",
     "text": [
      "[[0 0 0 0 0 0 0 0 0 0 0 0 0 0 0 0 0 0 0 0 0 0 0 0 0 0 0 0 0 0 1 0 0 0 0 0\n",
      "  0 0 0 0 0 0 0 0 0 0 0 0 0 0 0 0 0 0 0 0 0 0 0 0 0 0 0 0 0 0 0 0 0 0 0 0\n",
      "  1 0 0 0 0 0 0 0 0 0 0 0 0 0 0 0 0 0 0 0 0 0 0 0 0 0 0 0 0 0 0 0 0 0 0 0\n",
      "  0]]\n"
     ]
    }
   ],
   "source": [
    "print(X_fresh)"
   ]
  },
  {
   "cell_type": "code",
   "execution_count": 42,
   "metadata": {},
   "outputs": [],
   "source": [
    "model_file=\"D:\\DATA SCIENCE PROJECTS\\Agentic vs communal\\model.pkl\"\n",
    "model = pickle.load(open(model_file, \"rb\"))"
   ]
  },
  {
   "cell_type": "code",
   "execution_count": 43,
   "metadata": {},
   "outputs": [
    {
     "name": "stdout",
     "output_type": "stream",
     "text": [
      "[2]\n"
     ]
    }
   ],
   "source": [
    "prediction=model.predict(X_fresh)\n",
    "print(prediction)"
   ]
  },
  {
   "cell_type": "code",
   "execution_count": null,
   "metadata": {},
   "outputs": [],
   "source": []
  },
  {
   "cell_type": "code",
   "execution_count": null,
   "metadata": {},
   "outputs": [],
   "source": []
  },
  {
   "cell_type": "code",
   "execution_count": null,
   "metadata": {},
   "outputs": [],
   "source": []
  },
  {
   "cell_type": "code",
   "execution_count": null,
   "metadata": {},
   "outputs": [],
   "source": []
  },
  {
   "cell_type": "code",
   "execution_count": 44,
   "metadata": {},
   "outputs": [],
   "source": [
    "def convert(lst):\n",
    "    return (lst[0].split())\n",
    " \n",
    "\n",
    "lst =  corpus\n",
    "test_dictionary=convert(lst)"
   ]
  },
  {
   "cell_type": "code",
   "execution_count": 45,
   "metadata": {},
   "outputs": [
    {
     "name": "stdout",
     "output_type": "stream",
     "text": [
      "['polit', 'gentl']\n"
     ]
    }
   ],
   "source": [
    "print(test_dictionary)"
   ]
  },
  {
   "cell_type": "code",
   "execution_count": 46,
   "metadata": {},
   "outputs": [],
   "source": [
    "with open ('dictionary.txt', 'rb') as file:\n",
    "    train_dictionary = pickle.load(file)"
   ]
  },
  {
   "cell_type": "code",
   "execution_count": 47,
   "metadata": {},
   "outputs": [
    {
     "data": {
      "text/plain": [
       "['abl',\n",
       " 'work',\n",
       " 'accomplish',\n",
       " 'without',\n",
       " 'help',\n",
       " 'confid',\n",
       " 'ambit',\n",
       " 'help',\n",
       " 'grow',\n",
       " 'grate',\n",
       " 'enough',\n",
       " 'help',\n",
       " 'kind',\n",
       " 'make',\n",
       " 'loveabl',\n",
       " 'way',\n",
       " 'share',\n",
       " 'belong',\n",
       " 'realli',\n",
       " 'warm',\n",
       " 'intellig',\n",
       " 'ang',\n",
       " 'leadership',\n",
       " 'abil',\n",
       " 'abl',\n",
       " 'overcom',\n",
       " 'problem',\n",
       " 'expert',\n",
       " 'field',\n",
       " 'outstand',\n",
       " 'perform',\n",
       " 'confid',\n",
       " 'face',\n",
       " 'oustand',\n",
       " 'result',\n",
       " 'manag',\n",
       " 'realli',\n",
       " 'organ',\n",
       " 'power',\n",
       " 'profession',\n",
       " 'behavior',\n",
       " 'make',\n",
       " 'us',\n",
       " 'proud',\n",
       " 'boy',\n",
       " 'logic',\n",
       " 'skill',\n",
       " 'solv',\n",
       " 'complex',\n",
       " 'problem',\n",
       " 'outstand',\n",
       " 'perform',\n",
       " 'sucessful',\n",
       " 'soon',\n",
       " 'decis',\n",
       " 'bring',\n",
       " 'justic',\n",
       " 'merci',\n",
       " 'love',\n",
       " 'attitud',\n",
       " 'toward',\n",
       " 'sens',\n",
       " 'humor',\n",
       " 'praiseworthi',\n",
       " 'power',\n",
       " 'independ',\n",
       " 'girl',\n",
       " 'discov',\n",
       " 'lot',\n",
       " 'thing',\n",
       " 'excel',\n",
       " 'manag',\n",
       " 'leadership',\n",
       " 'neighbor',\n",
       " 'gentl',\n",
       " 'polit',\n",
       " 'genuin',\n",
       " 'help',\n",
       " 'other',\n",
       " 'love',\n",
       " 'behavior',\n",
       " 'keep',\n",
       " 'everyon',\n",
       " 'unit',\n",
       " 'realli',\n",
       " 'close',\n",
       " 'love',\n",
       " 'polit',\n",
       " 'help',\n",
       " 'behavior',\n",
       " 'discuss',\n",
       " 'famili',\n",
       " 'friend',\n",
       " 'hospit',\n",
       " 'natur',\n",
       " 'learn',\n",
       " 'teach',\n",
       " 'good',\n",
       " 'team',\n",
       " 'player',\n",
       " 'team',\n",
       " 'work',\n",
       " 'togeth',\n",
       " 'trust',\n",
       " 'discuss',\n",
       " 'welfar',\n",
       " 'team',\n",
       " 'teach',\n",
       " 'peopl',\n",
       " 'talk',\n",
       " 'sympathi',\n",
       " 'squad',\n",
       " 'share',\n",
       " 'mutual',\n",
       " 'resepect',\n",
       " 'ritual',\n",
       " 'roommat',\n",
       " 'loveabl',\n",
       " 'open',\n",
       " 'mind',\n",
       " 'offer',\n",
       " 'tea',\n",
       " 'yesterday',\n",
       " 'care',\n",
       " 'other',\n",
       " 'roomat',\n",
       " 'lot',\n",
       " 'lover',\n",
       " 'behavior',\n",
       " 'establish',\n",
       " 'lot',\n",
       " 'effort',\n",
       " 'power',\n",
       " 'women',\n",
       " 'deep',\n",
       " 'insight',\n",
       " 'goal',\n",
       " 'orient',\n",
       " 'mental',\n",
       " 'allow',\n",
       " 'overcom',\n",
       " 'barrier']"
      ]
     },
     "execution_count": 47,
     "metadata": {},
     "output_type": "execute_result"
    }
   ],
   "source": [
    "train_dictionary"
   ]
  },
  {
   "cell_type": "code",
   "execution_count": 48,
   "metadata": {},
   "outputs": [
    {
     "name": "stdout",
     "output_type": "stream",
     "text": [
      "['gentl', 'polit']\n"
     ]
    }
   ],
   "source": [
    "list1_as_set = set(train_dictionary)\n",
    "intersection = list1_as_set. intersection(test_dictionary)\n",
    "intersection_as_list = list(intersection)\n",
    "print(intersection_as_list)"
   ]
  },
  {
   "cell_type": "code",
   "execution_count": null,
   "metadata": {},
   "outputs": [],
   "source": []
  }
 ],
 "metadata": {
  "kernelspec": {
   "display_name": "Python 3",
   "language": "python",
   "name": "python3"
  },
  "language_info": {
   "codemirror_mode": {
    "name": "ipython",
    "version": 3
   },
   "file_extension": ".py",
   "mimetype": "text/x-python",
   "name": "python",
   "nbconvert_exporter": "python",
   "pygments_lexer": "ipython3",
   "version": "3.8.3"
  }
 },
 "nbformat": 4,
 "nbformat_minor": 4
}
